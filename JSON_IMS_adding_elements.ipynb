{
 "cells": [
  {
   "cell_type": "code",
   "execution_count": 2,
   "metadata": {},
   "outputs": [
    {
     "name": "stdout",
     "output_type": "stream",
     "text": [
      "enter product id:1016\n",
      "enter the product name:lolly\n",
      "enter the product price5\n",
      "enter quantity:5\n"
     ]
    }
   ],
   "source": [
    "import json\n",
    "\n",
    "fd = open('record.json','r')\n",
    "\n",
    "txt = fd.read()\n",
    "\n",
    "fd.close()\n",
    "\n",
    "record = json.loads(txt)\n",
    "\n",
    "prod_id = input(\"enter product id:\")\n",
    "name = input(\"enter the product name:\")\n",
    "pr = int(input(\"enter the product price\"))\n",
    "qn = int(input(\"enter quantity:\"))\n",
    "record[prod_id]={'name':name,'pr':pr,'qn':qn}\n"
   ]
  },
  {
   "cell_type": "raw",
   "metadata": {},
   "source": [
    "reccord"
   ]
  },
  {
   "cell_type": "code",
   "execution_count": 3,
   "metadata": {},
   "outputs": [
    {
     "data": {
      "text/plain": [
       "{'1001': {'name': 'Choco Cake', 'qn': 30, 'pr': 100},\n",
       " '1002': {'name': 'Milk Cake', 'pr': 800, 'qn': 98},\n",
       " '1005': {'name': 'chocochips', 'pr': 20, 'qn': 5},\n",
       " '1003': {'name': 'milkybar', 'pr': 20, 'qn': 9},\n",
       " '1004': {'name': 'mango choco', 'pr': 15, 'qn': 20},\n",
       " '1006': {'name': 'dairymilk', 'pr': 20, 'qn': 25},\n",
       " '1007': {'name': 'eclairs', 'pr': 2, 'qn': 200},\n",
       " '1008': {'name': 'kitkat', 'pr': 20, 'qn': 100},\n",
       " '1009': {'name': 'mango bite', 'pr': 2, 'qn': 200},\n",
       " '1010': {'name': 'cofee bite', 'pr': 2, 'qn': 197},\n",
       " '1011': {'name': 'sipon', 'pr': 20, 'qn': 98},\n",
       " '1012': {'name': 'coc0 bar', 'pr': 2, 'qn': 200},\n",
       " '1013': {'name': 'burger', 'pr': 100, 'qn': 10},\n",
       " '1014': {'name': 'sandwitch', 'pr': 50, 'qn': 10},\n",
       " '1015': {'name': 'cocochips', 'pr': 5, 'qn': 200},\n",
       " '1016': {'name': 'lolly', 'pr': 5, 'qn': 5}}"
      ]
     },
     "execution_count": 3,
     "metadata": {},
     "output_type": "execute_result"
    }
   ],
   "source": [
    "record"
   ]
  },
  {
   "cell_type": "code",
   "execution_count": 7,
   "metadata": {},
   "outputs": [
    {
     "name": "stdout",
     "output_type": "stream",
     "text": [
      "enter product id:1019\n",
      "enter the product name:seven up\n",
      "enter the product price50\n",
      "enter quantity:200\n"
     ]
    }
   ],
   "source": [
    "prod_id = input(\"enter product id:\")\n",
    "name = input(\"enter the product name:\")\n",
    "pr = int(input(\"enter the product price\"))\n",
    "qn = int(input(\"enter quantity:\"))\n",
    "record[prod_id]={'name':name,'pr':pr,'qn':qn}"
   ]
  },
  {
   "cell_type": "raw",
   "metadata": {},
   "source": [
    "record"
   ]
  },
  {
   "cell_type": "code",
   "execution_count": 8,
   "metadata": {},
   "outputs": [
    {
     "data": {
      "text/plain": [
       "{'1001': {'name': 'Choco Cake', 'qn': 30, 'pr': 100},\n",
       " '1002': {'name': 'Milk Cake', 'pr': 800, 'qn': 98},\n",
       " '1005': {'name': 'chocochips', 'pr': 20, 'qn': 5},\n",
       " '1003': {'name': 'milkybar', 'pr': 20, 'qn': 9},\n",
       " '1004': {'name': 'mango choco', 'pr': 15, 'qn': 20},\n",
       " '1006': {'name': 'dairymilk', 'pr': 20, 'qn': 25},\n",
       " '1007': {'name': 'eclairs', 'pr': 2, 'qn': 200},\n",
       " '1008': {'name': 'kitkat', 'pr': 20, 'qn': 100},\n",
       " '1009': {'name': 'mango bite', 'pr': 2, 'qn': 200},\n",
       " '1010': {'name': 'cofee bite', 'pr': 2, 'qn': 197},\n",
       " '1011': {'name': 'sipon', 'pr': 20, 'qn': 98},\n",
       " '1012': {'name': 'coc0 bar', 'pr': 2, 'qn': 200},\n",
       " '1013': {'name': 'burger', 'pr': 100, 'qn': 10},\n",
       " '1014': {'name': 'sandwitch', 'pr': 50, 'qn': 10},\n",
       " '1015': {'name': 'cocochips', 'pr': 5, 'qn': 200},\n",
       " '1016': {'name': 'lolly', 'pr': 5, 'qn': 5},\n",
       " '1017': {'name': 'polo', 'pr': 10, 'qn': 100},\n",
       " '1018': {'name': 'kinderjoy', 'pr': 50, 'qn': 500},\n",
       " '1019': {'name': 'seven up', 'pr': 50, 'qn': 200}}"
      ]
     },
     "execution_count": 8,
     "metadata": {},
     "output_type": "execute_result"
    }
   ],
   "source": [
    "record\n"
   ]
  },
  {
   "cell_type": "code",
   "execution_count": 24,
   "metadata": {},
   "outputs": [],
   "source": [
    "### purchase\n"
   ]
  },
  {
   "cell_type": "code",
   "execution_count": 9,
   "metadata": {},
   "outputs": [
    {
     "name": "stdout",
     "output_type": "stream",
     "text": [
      "enter the prod_id: 1019\n",
      "enter the quantity2\n",
      "products:  seven up\n",
      "price: 50\n",
      "Billing amount:  100\n"
     ]
    }
   ],
   "source": [
    "ui_prod = input(\"enter the prod_id: \")\n",
    "ui_quant= int(input(\"enter the quantity\"))\n",
    "\n",
    "\n",
    "print(\"products: \", record[ui_prod]['name'])\n",
    "print(\"price:\", record[ui_prod]['pr'])\n",
    "print(\"Billing amount: \", record[ui_prod]['pr']*ui_quant)\n",
    "\n",
    "record[ui_prod]['qn'] = record[ui_prod]['qn']-ui_quant\n"
   ]
  },
  {
   "cell_type": "code",
   "execution_count": 30,
   "metadata": {},
   "outputs": [
    {
     "data": {
      "text/plain": [
       "{'1001': {'name': 'Choco Cake', 'qn': 30, 'pr': 100},\n",
       " '1002': {'name': 'Milk Cake', 'pr': 800, 'qn': 100},\n",
       " '1005': {'name': 'chocochips', 'pr': 20, 'qn': 5},\n",
       " '1003': {'name': 'milkybar', 'pr': 20, 'qn': 9},\n",
       " '1004': {'name': 'mango choco', 'pr': 15, 'qn': 20},\n",
       " '1006': {'name': 'dairymilk', 'pr': 20, 'qn': 25},\n",
       " '1007': {'name': 'eclairs', 'pr': 2, 'qn': 200},\n",
       " '1008': {'name': 'kitkat', 'pr': 20, 'qn': 100},\n",
       " '1009': {'name': 'mango bite', 'pr': 2, 'qn': 200},\n",
       " '1010': {'name': 'cofee bite', 'pr': 2, 'qn': 200},\n",
       " '1011': {'name': 'sipon', 'pr': 20, 'qn': 100},\n",
       " '1012': {'name': 'coc0 bar', 'pr': 2, 'qn': 200},\n",
       " '1013': {'name': 'burger', 'pr': 100, 'qn': 10},\n",
       " '1014': {'name': 'sandwitch', 'pr': 50, 'qn': 10},\n",
       " '1015': {'name': 'cocochips', 'pr': 5, 'qn': 200}}"
      ]
     },
     "execution_count": 30,
     "metadata": {},
     "output_type": "execute_result"
    }
   ],
   "source": [
    "record\n"
   ]
  },
  {
   "cell_type": "code",
   "execution_count": 10,
   "metadata": {},
   "outputs": [],
   "source": [
    "js = json.dumps(record)\n",
    "fd = open(\"record.json\",'w')\n",
    "fd.write(js)\n",
    "fd.close()"
   ]
  },
  {
   "cell_type": "code",
   "execution_count": null,
   "metadata": {},
   "outputs": [],
   "source": []
  }
 ],
 "metadata": {
  "kernelspec": {
   "display_name": "Python 3",
   "language": "python",
   "name": "python3"
  },
  "language_info": {
   "codemirror_mode": {
    "name": "ipython",
    "version": 3
   },
   "file_extension": ".py",
   "mimetype": "text/x-python",
   "name": "python",
   "nbconvert_exporter": "python",
   "pygments_lexer": "ipython3",
   "version": "3.8.3"
  }
 },
 "nbformat": 4,
 "nbformat_minor": 4
}
